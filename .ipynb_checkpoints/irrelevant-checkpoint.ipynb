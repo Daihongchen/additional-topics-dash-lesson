{
 "cells": [
  {
   "cell_type": "code",
   "execution_count": null,
   "metadata": {},
   "outputs": [],
   "source": [
    "new_store = []\n",
    "with open(\"data/Fifa Pack Log_FUT - Pack Opening.csv\") as f:\n",
    "    d = {}\n",
    "    startingLine = True\n",
    "    for line in f.readlines()[14:]:\n",
    "        if startingLine:\n",
    "            line_info = line.split(\",\")\n",
    "            d['date'] = line_info[1]\n",
    "            d['packType'] = line_info[2]\n",
    "            d['packId'] = line_info[3]\n",
    "            d['trashDoor'] = line_info[4]\n",
    "            d['items'] = [line_info[5]]\n",
    "            startingLine=False\n",
    "            continue\n",
    "        if line.startswith(\",,,,,,,,\"):\n",
    "            new_store.append(d)\n",
    "            d = {}\n",
    "            startingLine=True\n",
    "            continue\n",
    "        line_info = line.split(\",\")\n",
    "        d['items'].append(line_info[5])\n",
    "new_store"
   ]
  }
 ],
 "metadata": {
  "kernelspec": {
   "display_name": "Python [conda env:dash-env]",
   "language": "python",
   "name": "conda-env-dash-env-py"
  },
  "language_info": {
   "codemirror_mode": {
    "name": "ipython",
    "version": 3
   },
   "file_extension": ".py",
   "mimetype": "text/x-python",
   "name": "python",
   "nbconvert_exporter": "python",
   "pygments_lexer": "ipython3",
   "version": "3.6.9"
  }
 },
 "nbformat": 4,
 "nbformat_minor": 2
}
